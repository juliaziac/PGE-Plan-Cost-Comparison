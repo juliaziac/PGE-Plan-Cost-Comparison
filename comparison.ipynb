{
 "cells": [
  {
   "cell_type": "markdown",
   "metadata": {},
   "source": [
    "# PGE Budget Billing vs. Traditional\n",
    "\n",
    "PGE has a new program, \"Budget Billing\":\n",
    "\n",
    "\"The Budget Billing program averages your energy costs over the previous 12 months to determine your monthly payment amount. If your actual energy costs significantly change, we adjust your monthly Budget Billing payment amount once every four months.\"\n",
    "\n",
    "Questions for PGE:\n",
    "+ What counts as \"significant\" change?\n",
    "\n",
    "Questions for analysis:\n",
    "+ Historically, would we have benefitted from this?\n",
    "+ If so, what is the optimal month to start (given the 4-month update cycle)?"
   ]
  },
  {
   "cell_type": "code",
   "execution_count": 17,
   "metadata": {},
   "outputs": [],
   "source": [
    "# starting after 1 full year, compute rolling 12-month average and compare it x4 to the sum of the next 4 months\n",
    "\n",
    "# double check I pulled the full PGE data (I really want to start at December 2020)"
   ]
  },
  {
   "cell_type": "markdown",
   "metadata": {},
   "source": [
    "## Function Definitions"
   ]
  },
  {
   "cell_type": "code",
   "execution_count": 18,
   "metadata": {},
   "outputs": [],
   "source": [
    "import pandas as pd\n",
    "import numpy as np\n",
    "import re\n",
    "import datetime"
   ]
  },
  {
   "cell_type": "code",
   "execution_count": 31,
   "metadata": {},
   "outputs": [
    {
     "ename": "TypeError",
     "evalue": "'type' object is not subscriptable",
     "output_type": "error",
     "traceback": [
      "\u001b[0;31m---------------------------------------------------------------------------\u001b[0m",
      "\u001b[0;31mTypeError\u001b[0m                                 Traceback (most recent call last)",
      "\u001b[0;32m<ipython-input-31-c9c78d140219>\u001b[0m in \u001b[0;36m<module>\u001b[0;34m\u001b[0m\n\u001b[0;32m----> 1\u001b[0;31m \u001b[0;32mdef\u001b[0m \u001b[0mprocess_csv\u001b[0m\u001b[0;34m(\u001b[0m\u001b[0mfilename\u001b[0m\u001b[0;34m:\u001b[0m \u001b[0mstr\u001b[0m\u001b[0;34m)\u001b[0m \u001b[0;34m->\u001b[0m \u001b[0mtuple\u001b[0m\u001b[0;34m[\u001b[0m\u001b[0mpd\u001b[0m\u001b[0;34m.\u001b[0m\u001b[0mDataFrame\u001b[0m\u001b[0;34m,\u001b[0m \u001b[0mstr\u001b[0m\u001b[0;34m]\u001b[0m\u001b[0;34m:\u001b[0m\u001b[0;34m\u001b[0m\u001b[0;34m\u001b[0m\u001b[0m\n\u001b[0m\u001b[1;32m      2\u001b[0m     \"\"\"Converts a PGE csv file into a dataframe and its energy type name.\n\u001b[1;32m      3\u001b[0m \u001b[0;34m\u001b[0m\u001b[0m\n\u001b[1;32m      4\u001b[0m     \u001b[0mArgs\u001b[0m\u001b[0;34m:\u001b[0m\u001b[0;34m\u001b[0m\u001b[0;34m\u001b[0m\u001b[0m\n\u001b[1;32m      5\u001b[0m         \u001b[0mfilename\u001b[0m \u001b[0;34m(\u001b[0m\u001b[0mstr\u001b[0m\u001b[0;34m)\u001b[0m\u001b[0;34m:\u001b[0m \u001b[0mThe\u001b[0m \u001b[0mcsv\u001b[0m \u001b[0mfile\u001b[0m \u001b[0mpath\u001b[0m\u001b[0;34m.\u001b[0m \u001b[0mKeep\u001b[0m \u001b[0mthe\u001b[0m \u001b[0mPGE\u001b[0m \u001b[0mcsv\u001b[0m \u001b[0mnaming\u001b[0m \u001b[0mconvention\u001b[0m \u001b[0;32mfor\u001b[0m \u001b[0mproper\u001b[0m \u001b[0mparsing\u001b[0m\u001b[0;34m.\u001b[0m\u001b[0;34m\u001b[0m\u001b[0;34m\u001b[0m\u001b[0m\n",
      "\u001b[0;31mTypeError\u001b[0m: 'type' object is not subscriptable"
     ]
    }
   ],
   "source": [
    "def process_csv(filename: str) -> tuple[pd.DataFrame, str]:\n",
    "    \"\"\"Converts a PGE csv file into a dataframe and its energy type name.\n",
    "\n",
    "    Args:\n",
    "        filename (str): The csv file path. Keep the PGE csv naming convention for proper parsing.\n",
    "\n",
    "    Returns:\n",
    "        df (pd.DataFrame): A dataframe of energy data. Dates are converted for proper merging with other PGE csv's.\n",
    "        df_name (str): The energy type ('gas' or 'electric') as designated by PGE's csv naming convention.\n",
    "    \"\"\"\n",
    "\n",
    "    df = pd.read_csv(filename, header=4, parse_dates=['START DATE', 'END DATE'])\n",
    "    df['MID-DATE'] = df['START DATE'] + datetime.timedelta(days=5) # to accomodate start dates at the end of the month\n",
    "    df['MONTH'] = df['MID-DATE'].dt.to_period('M')\n",
    "    df_name = re.search(r'_([^_]*)_', filename).group(1)\n",
    "    return df, df_name\n",
    "\n",
    "def combine_and_process(df1: pd.DatFrame, df1_name: str, df2: pd.DataFrame, df2_name: str) -> pd.DataFrame:\n",
    "    \"\"\"Combines gas and electric data and computes rolling 12-month cost average.\n",
    "\n",
    "    Args:\n",
    "        df1 (pd.DataFrame): Gas or electric data parsed by the function process_csv.\n",
    "        df1_name (str): The energy type of the first dataframe. This will be used as the suffix\n",
    "            when the data is combined.\n",
    "        df2 (pd.DataFrame): The other energy type data parsed by the function process_csv.\n",
    "        df2_name (str): The energy type of the second dataframe. This will be used as the suffix\n",
    "            when the data is combined.\n",
    "\n",
    "    Returns:\n",
    "        df (pd.DataFrame): A dataframe of the gas and electric data combined, with the rolling 12-month\n",
    "            cost average computed.\n",
    "    \"\"\"\n",
    "\n",
    "    df = pd.merge(left=df1, right=df2, left_on='MONTH', right_on='MONTH',\n",
    "                suffixes=[f'_{df1_name}', f'_{df2_name}'])\n",
    "    df['TOTAL_COST'] = df[f'COST_{df1_name}'].str.slice(start=1).astype(float)\\\n",
    "        + df[f'COST_{df2_name}'].str.slice(start=1).astype(float)\n",
    "    df.sort_values(by='MONTH', ascending=True)\n",
    "    df['1Y_ROLLING_AVG'] = df.rolling(12).mean().round(2)['TOTAL_COST']\n",
    "    return df"
   ]
  },
  {
   "cell_type": "code",
   "execution_count": 32,
   "metadata": {},
   "outputs": [],
   "source": [
    "def cost_comparison_quarterly_one_year(row_index: int) -> pd.DataFrame:\n",
    "    \"\"\"Computes the optimal quarterly PGE plan for a time span of one year.\n",
    "\n",
    "    Args:\n",
    "        row_index (int): The row index of the start month for the desired one year time span.\n",
    "            The row refers to the dataframe generated by the combine_and_process function.\n",
    "\n",
    "    Returns:\n",
    "        df (pd.DataFrame): A 4-row dataframe where each row denotes a quarter of a year,\n",
    "            showing which PGE plan is cheaper and by what dollar amount.\n",
    "    \"\"\"\n",
    "\n",
    "    df = pd.DataFrame(columns=['start_month', 'end_month', 'cheaper_plan', 'cheaper_by_$'])\n",
    "    start_row = row_index\n",
    "    for i in range(4):\n",
    "        start_month = total.iloc[start_row]['MONTH']\n",
    "        end_month = total.iloc[start_row+3]['MONTH']\n",
    "        budget_cost = total.iloc[start_row]['1Y_ROLLING_AVG']*4\n",
    "        actual_cost = 0\n",
    "        for i in range(4):\n",
    "            actual_cost += total.iloc[start_row+i]['TOTAL_COST']\n",
    "        cost_difference = actual_cost - budget_cost\n",
    "        if cost_difference > 0:\n",
    "            cheaper_plan = 'budget cost'\n",
    "        if cost_difference < 0:\n",
    "            cheaper_plan = 'actual cost'\n",
    "            cost_difference *= -1\n",
    "        if cost_difference == 0:\n",
    "            cheaper_plan = 'no difference'\n",
    "        df.loc[len(df.index)] = [start_month, end_month, cheaper_plan, cost_difference]\n",
    "        start_row += 3\n",
    "    return df"
   ]
  },
  {
   "cell_type": "code",
   "execution_count": 33,
   "metadata": {},
   "outputs": [],
   "source": [
    "def cost_comparison_yearly(quarterly_df: pd.DataFrame) -> pd.DataFrame:\n",
    "    \"\"\"Computes the optimal yearly PGE plan.\n",
    "\n",
    "    Args:\n",
    "        quarterly_df (pd.DataFrame): A 4-row dataframe showing the optimal quarterly plan,\n",
    "            as generated by the function cost_comparison_quarterly_one_year.\n",
    "\n",
    "    Returns:\n",
    "        df (pd.DataFrame): A 1-row dataframe showing the which PGE plan is cheaper for the\n",
    "            entire year and by what dollar amount.\n",
    "    \"\"\"\n",
    "\n",
    "    df = pd.DataFrame(columns=['start_month', 'end_month', 'cheaper_plan', 'cheaper_by_$'])\n",
    "    start_month = quarterly_df['start_month'].min()\n",
    "    end_month = quarterly_df['end_month'].max()\n",
    "    quarterly_df['cheaper_by_$'].where(quarterly_df['cheaper_plan']=='actual cost', -quarterly_df['cheaper_by_$'], inplace=True)\n",
    "    cost_difference = quarterly_df['cheaper_by_$'].sum()\n",
    "    if cost_difference > 0:\n",
    "        cheaper_plan = 'actual cost'\n",
    "    if cost_difference < 0:\n",
    "        cheaper_plan = 'budget cost'\n",
    "        cost_difference *= -1\n",
    "    if cost_difference == 0:\n",
    "        cheaper_plan = 'no difference'\n",
    "    df.loc[len(df.index)] = [start_month, end_month, cheaper_plan, cost_difference]\n",
    "    return df"
   ]
  },
  {
   "cell_type": "code",
   "execution_count": 34,
   "metadata": {},
   "outputs": [],
   "source": [
    "def total_analysis(combined_df: pd.DataFrame) -> pd.DataFrame:\n",
    "    \"\"\"Computes the optimal PGE plan and start date for all input data.\n",
    "\n",
    "    The idea is that if the PGE Budget Billing plan maximized savings for a given year \n",
    "    starting in March of that year, for example, then one could assume that it would be\n",
    "    best to switch to the Budget Billing plan the next possible March.\n",
    "\n",
    "    Args:\n",
    "        combined_df (pd.DataFrame): A dataframe of PGE gas and electric data, as parsed by\n",
    "            the function combine_and_process.\n",
    "\n",
    "    Returns:\n",
    "        df (pd.DataFrame): A 1-row dataframe which is the maximum savings possible given\n",
    "            the input data.\n",
    "    \"\"\"\n",
    "\n",
    "    df = pd.DataFrame(columns=['start_month', 'end_month', 'cheaper_plan', 'cheaper_by_$'])\n",
    "    start_month_index = np.isnan(combined_df['1Y_ROLLING_AVG']).argmin(axis=0) # first non-null rolling average\n",
    "    for i in range(start_month_index, len(combined_df.index)-12):\n",
    "        df = df.append(cost_comparison_yearly(cost_comparison_quarterly_one_year(i)), ignore_index=True)\n",
    "    return df"
   ]
  },
  {
   "cell_type": "markdown",
   "metadata": {},
   "source": [
    "## Data Analysis"
   ]
  },
  {
   "cell_type": "code",
   "execution_count": 35,
   "metadata": {},
   "outputs": [],
   "source": [
    "gas, gas_name = process_csv('data/pge_gas_billing_data_4321483928_2021-04-02_to_2024-03-01.csv')\n",
    "electric, electric_name = process_csv('data/pge_electric_billing_data_4323839271_2021-04-01_to_2024-02-29.csv')\n",
    "total = combine_and_process(gas, gas_name, electric, electric_name)"
   ]
  },
  {
   "cell_type": "code",
   "execution_count": 36,
   "metadata": {},
   "outputs": [],
   "source": [
    "start_month_index = np.isnan(total['1Y_ROLLING_AVG']).argmin(axis=0) # first non-null rolling average"
   ]
  },
  {
   "cell_type": "code",
   "execution_count": 37,
   "metadata": {},
   "outputs": [
    {
     "data": {
      "text/html": [
       "<div>\n",
       "<style scoped>\n",
       "    .dataframe tbody tr th:only-of-type {\n",
       "        vertical-align: middle;\n",
       "    }\n",
       "\n",
       "    .dataframe tbody tr th {\n",
       "        vertical-align: top;\n",
       "    }\n",
       "\n",
       "    .dataframe thead th {\n",
       "        text-align: right;\n",
       "    }\n",
       "</style>\n",
       "<table border=\"1\" class=\"dataframe\">\n",
       "  <thead>\n",
       "    <tr style=\"text-align: right;\">\n",
       "      <th></th>\n",
       "      <th>start_month</th>\n",
       "      <th>end_month</th>\n",
       "      <th>cheaper_plan</th>\n",
       "      <th>cheaper_by_$</th>\n",
       "    </tr>\n",
       "  </thead>\n",
       "  <tbody>\n",
       "    <tr>\n",
       "      <th>0</th>\n",
       "      <td>2022-03</td>\n",
       "      <td>2022-06</td>\n",
       "      <td>actual cost</td>\n",
       "      <td>37.68</td>\n",
       "    </tr>\n",
       "    <tr>\n",
       "      <th>1</th>\n",
       "      <td>2022-06</td>\n",
       "      <td>2022-09</td>\n",
       "      <td>actual cost</td>\n",
       "      <td>108.15</td>\n",
       "    </tr>\n",
       "    <tr>\n",
       "      <th>2</th>\n",
       "      <td>2022-09</td>\n",
       "      <td>2022-12</td>\n",
       "      <td>actual cost</td>\n",
       "      <td>39.87</td>\n",
       "    </tr>\n",
       "    <tr>\n",
       "      <th>3</th>\n",
       "      <td>2022-12</td>\n",
       "      <td>2023-03</td>\n",
       "      <td>budget cost</td>\n",
       "      <td>164.32</td>\n",
       "    </tr>\n",
       "  </tbody>\n",
       "</table>\n",
       "</div>"
      ],
      "text/plain": [
       "  start_month end_month cheaper_plan  cheaper_by_$\n",
       "0     2022-03   2022-06  actual cost         37.68\n",
       "1     2022-06   2022-09  actual cost        108.15\n",
       "2     2022-09   2022-12  actual cost         39.87\n",
       "3     2022-12   2023-03  budget cost        164.32"
      ]
     },
     "execution_count": 37,
     "metadata": {},
     "output_type": "execute_result"
    }
   ],
   "source": [
    "cost_comparison_quarterly_one_year(start_month_index)"
   ]
  },
  {
   "cell_type": "code",
   "execution_count": 38,
   "metadata": {},
   "outputs": [
    {
     "data": {
      "text/html": [
       "<div>\n",
       "<style scoped>\n",
       "    .dataframe tbody tr th:only-of-type {\n",
       "        vertical-align: middle;\n",
       "    }\n",
       "\n",
       "    .dataframe tbody tr th {\n",
       "        vertical-align: top;\n",
       "    }\n",
       "\n",
       "    .dataframe thead th {\n",
       "        text-align: right;\n",
       "    }\n",
       "</style>\n",
       "<table border=\"1\" class=\"dataframe\">\n",
       "  <thead>\n",
       "    <tr style=\"text-align: right;\">\n",
       "      <th></th>\n",
       "      <th>start_month</th>\n",
       "      <th>end_month</th>\n",
       "      <th>cheaper_plan</th>\n",
       "      <th>cheaper_by_$</th>\n",
       "    </tr>\n",
       "  </thead>\n",
       "  <tbody>\n",
       "    <tr>\n",
       "      <th>0</th>\n",
       "      <td>2022-03</td>\n",
       "      <td>2023-03</td>\n",
       "      <td>actual cost</td>\n",
       "      <td>21.38</td>\n",
       "    </tr>\n",
       "  </tbody>\n",
       "</table>\n",
       "</div>"
      ],
      "text/plain": [
       "  start_month end_month cheaper_plan  cheaper_by_$\n",
       "0     2022-03   2023-03  actual cost         21.38"
      ]
     },
     "execution_count": 38,
     "metadata": {},
     "output_type": "execute_result"
    }
   ],
   "source": [
    "cost_comparison_yearly(cost_comparison_quarterly_one_year(start_month_index))"
   ]
  },
  {
   "cell_type": "code",
   "execution_count": 39,
   "metadata": {},
   "outputs": [
    {
     "data": {
      "text/html": [
       "<div>\n",
       "<style scoped>\n",
       "    .dataframe tbody tr th:only-of-type {\n",
       "        vertical-align: middle;\n",
       "    }\n",
       "\n",
       "    .dataframe tbody tr th {\n",
       "        vertical-align: top;\n",
       "    }\n",
       "\n",
       "    .dataframe thead th {\n",
       "        text-align: right;\n",
       "    }\n",
       "</style>\n",
       "<table border=\"1\" class=\"dataframe\">\n",
       "  <thead>\n",
       "    <tr style=\"text-align: right;\">\n",
       "      <th></th>\n",
       "      <th>start_month</th>\n",
       "      <th>end_month</th>\n",
       "      <th>cheaper_plan</th>\n",
       "      <th>cheaper_by_$</th>\n",
       "    </tr>\n",
       "  </thead>\n",
       "  <tbody>\n",
       "    <tr>\n",
       "      <th>0</th>\n",
       "      <td>2022-03</td>\n",
       "      <td>2023-03</td>\n",
       "      <td>actual cost</td>\n",
       "      <td>21.38</td>\n",
       "    </tr>\n",
       "    <tr>\n",
       "      <th>1</th>\n",
       "      <td>2022-04</td>\n",
       "      <td>2023-04</td>\n",
       "      <td>budget cost</td>\n",
       "      <td>7.59</td>\n",
       "    </tr>\n",
       "    <tr>\n",
       "      <th>2</th>\n",
       "      <td>2022-05</td>\n",
       "      <td>2023-05</td>\n",
       "      <td>budget cost</td>\n",
       "      <td>13.83</td>\n",
       "    </tr>\n",
       "    <tr>\n",
       "      <th>3</th>\n",
       "      <td>2022-06</td>\n",
       "      <td>2023-06</td>\n",
       "      <td>actual cost</td>\n",
       "      <td>27.53</td>\n",
       "    </tr>\n",
       "    <tr>\n",
       "      <th>4</th>\n",
       "      <td>2022-07</td>\n",
       "      <td>2023-07</td>\n",
       "      <td>actual cost</td>\n",
       "      <td>6.34</td>\n",
       "    </tr>\n",
       "    <tr>\n",
       "      <th>5</th>\n",
       "      <td>2022-08</td>\n",
       "      <td>2023-08</td>\n",
       "      <td>budget cost</td>\n",
       "      <td>13.29</td>\n",
       "    </tr>\n",
       "    <tr>\n",
       "      <th>6</th>\n",
       "      <td>2022-09</td>\n",
       "      <td>2023-09</td>\n",
       "      <td>actual cost</td>\n",
       "      <td>17.86</td>\n",
       "    </tr>\n",
       "    <tr>\n",
       "      <th>7</th>\n",
       "      <td>2022-10</td>\n",
       "      <td>2023-10</td>\n",
       "      <td>budget cost</td>\n",
       "      <td>25.32</td>\n",
       "    </tr>\n",
       "    <tr>\n",
       "      <th>8</th>\n",
       "      <td>2022-11</td>\n",
       "      <td>2023-11</td>\n",
       "      <td>budget cost</td>\n",
       "      <td>17.62</td>\n",
       "    </tr>\n",
       "    <tr>\n",
       "      <th>9</th>\n",
       "      <td>2022-12</td>\n",
       "      <td>2023-12</td>\n",
       "      <td>actual cost</td>\n",
       "      <td>18.34</td>\n",
       "    </tr>\n",
       "    <tr>\n",
       "      <th>10</th>\n",
       "      <td>2023-01</td>\n",
       "      <td>2024-01</td>\n",
       "      <td>budget cost</td>\n",
       "      <td>4.41</td>\n",
       "    </tr>\n",
       "    <tr>\n",
       "      <th>11</th>\n",
       "      <td>2023-02</td>\n",
       "      <td>2024-02</td>\n",
       "      <td>actual cost</td>\n",
       "      <td>56.81</td>\n",
       "    </tr>\n",
       "  </tbody>\n",
       "</table>\n",
       "</div>"
      ],
      "text/plain": [
       "   start_month end_month cheaper_plan  cheaper_by_$\n",
       "0      2022-03   2023-03  actual cost         21.38\n",
       "1      2022-04   2023-04  budget cost          7.59\n",
       "2      2022-05   2023-05  budget cost         13.83\n",
       "3      2022-06   2023-06  actual cost         27.53\n",
       "4      2022-07   2023-07  actual cost          6.34\n",
       "5      2022-08   2023-08  budget cost         13.29\n",
       "6      2022-09   2023-09  actual cost         17.86\n",
       "7      2022-10   2023-10  budget cost         25.32\n",
       "8      2022-11   2023-11  budget cost         17.62\n",
       "9      2022-12   2023-12  actual cost         18.34\n",
       "10     2023-01   2024-01  budget cost          4.41\n",
       "11     2023-02   2024-02  actual cost         56.81"
      ]
     },
     "execution_count": 39,
     "metadata": {},
     "output_type": "execute_result"
    }
   ],
   "source": [
    "total_analysis(total)"
   ]
  },
  {
   "cell_type": "code",
   "execution_count": 40,
   "metadata": {},
   "outputs": [
    {
     "data": {
      "text/html": [
       "<div>\n",
       "<style scoped>\n",
       "    .dataframe tbody tr th:only-of-type {\n",
       "        vertical-align: middle;\n",
       "    }\n",
       "\n",
       "    .dataframe tbody tr th {\n",
       "        vertical-align: top;\n",
       "    }\n",
       "\n",
       "    .dataframe thead th {\n",
       "        text-align: right;\n",
       "    }\n",
       "</style>\n",
       "<table border=\"1\" class=\"dataframe\">\n",
       "  <thead>\n",
       "    <tr style=\"text-align: right;\">\n",
       "      <th></th>\n",
       "      <th>start_month</th>\n",
       "      <th>end_month</th>\n",
       "      <th>cheaper_plan</th>\n",
       "      <th>cheaper_by_$</th>\n",
       "    </tr>\n",
       "  </thead>\n",
       "  <tbody>\n",
       "    <tr>\n",
       "      <th>11</th>\n",
       "      <td>2023-02</td>\n",
       "      <td>2024-02</td>\n",
       "      <td>actual cost</td>\n",
       "      <td>56.81</td>\n",
       "    </tr>\n",
       "  </tbody>\n",
       "</table>\n",
       "</div>"
      ],
      "text/plain": [
       "   start_month end_month cheaper_plan cheaper_by_$\n",
       "11     2023-02   2024-02  actual cost        56.81"
      ]
     },
     "execution_count": 40,
     "metadata": {},
     "output_type": "execute_result"
    }
   ],
   "source": [
    "total_analysis_df = total_analysis(total)\n",
    "total_analysis_df.iloc[total_analysis_df['cheaper_by_$'].idxmax()].to_frame().T"
   ]
  },
  {
   "cell_type": "code",
   "execution_count": 41,
   "metadata": {},
   "outputs": [
    {
     "data": {
      "text/plain": [
       "24.71"
      ]
     },
     "execution_count": 41,
     "metadata": {},
     "output_type": "execute_result"
    }
   ],
   "source": [
    "round(total_analysis_df[total_analysis_df['cheaper_plan'].isin(['actual cost'])]['cheaper_by_$'].mean(), 2)"
   ]
  },
  {
   "cell_type": "code",
   "execution_count": 42,
   "metadata": {},
   "outputs": [
    {
     "data": {
      "text/plain": [
       "13.68"
      ]
     },
     "execution_count": 42,
     "metadata": {},
     "output_type": "execute_result"
    }
   ],
   "source": [
    "round(total_analysis_df[total_analysis_df['cheaper_plan'].isin(['budget cost'])]['cheaper_by_$'].mean(), 2)"
   ]
  },
  {
   "cell_type": "code",
   "execution_count": null,
   "metadata": {},
   "outputs": [],
   "source": []
  },
  {
   "cell_type": "code",
   "execution_count": null,
   "metadata": {},
   "outputs": [],
   "source": []
  },
  {
   "cell_type": "code",
   "execution_count": null,
   "metadata": {},
   "outputs": [],
   "source": [
    "# plots\n",
    "from matplotlib import pyplot as plt"
   ]
  },
  {
   "cell_type": "code",
   "execution_count": null,
   "metadata": {},
   "outputs": [],
   "source": [
    "plt.plot(total.index, total['TOTAL COST'])"
   ]
  },
  {
   "cell_type": "code",
   "execution_count": null,
   "metadata": {},
   "outputs": [],
   "source": [
    "total.dtypes"
   ]
  },
  {
   "cell_type": "code",
   "execution_count": null,
   "metadata": {},
   "outputs": [],
   "source": [
    "fig, ax = plt.subplots(figsize=(16,8))\n",
    "ax.bar(x=total['MONTH'].dt.to_timestamp(), height=total['TOTAL COST'], width=25)\n",
    "ax.xaxis_date()\n",
    "ax.tick_params(axis='x', rotation=60)\n",
    "ax.set_xticks(total['MONTH'].dt.to_timestamp())\n",
    "ax\n",
    "# color by year"
   ]
  },
  {
   "cell_type": "code",
   "execution_count": null,
   "metadata": {},
   "outputs": [],
   "source": []
  }
 ],
 "metadata": {
  "kernelspec": {
   "display_name": "base",
   "language": "python",
   "name": "python3"
  },
  "language_info": {
   "codemirror_mode": {
    "name": "ipython",
    "version": 3
   },
   "file_extension": ".py",
   "mimetype": "text/x-python",
   "name": "python",
   "nbconvert_exporter": "python",
   "pygments_lexer": "ipython3",
   "version": "3.8.8"
  }
 },
 "nbformat": 4,
 "nbformat_minor": 2
}
